{
  "nbformat": 4,
  "nbformat_minor": 0,
  "metadata": {
    "colab": {
      "provenance": [],
      "toc_visible": true
    },
    "kernelspec": {
      "name": "python3",
      "display_name": "Python 3"
    },
    "language_info": {
      "name": "python"
    }
  },
  "cells": [
    {
      "cell_type": "markdown",
      "source": [
        "#  Project Goal\n",
        "The goal of this project is to **Classfy individuals into 7 obesity levels** based on lifestyle habits, and apply **Clustering** to find hidden patterns.\n"
      ],
      "metadata": {
        "id": "n8EcZa_ZlSOb"
      }
    },
    {
      "cell_type": "markdown",
      "source": [
        "# Dataset Source\n",
        "We obtained the data from **Kaggle**\n",
        "[Obesity Levels Dataset](https://www.kaggle.com/datasets/fatemehmehrparvar/obesity-levels?resource=download)\n",
        "\n",
        "It provides data on obesity levels among individuals from Mexico, Peru and Colombia, detailing their dietary habits and physical condition."
      ],
      "metadata": {
        "id": "rDmy5jN2lSWf"
      }
    },
    {
      "cell_type": "code",
      "source": [
        "import pandas as pd\n",
        "# Loading dataset\n",
        "df = pd.read_csv(\"ObesityDataSet_raw.csv\")\n",
        "#To make sure it works\n",
        "display (df)"
      ],
      "metadata": {
        "id": "_tqy8ilplS6w"
      },
      "execution_count": null,
      "outputs": []
    },
    {
      "cell_type": "code",
      "source": [
        "#Number of attributes (columns)\n",
        "print(df.shape[1])\n",
        "\n",
        "# Data types of attributes (columns)\n",
        "columns_names = df.columns\n",
        "columns_types = df.dtypes\n",
        "print(\"Name of columns : \",columns_names)\n",
        "print(\"Type of columns : \",columns_types)\n",
        "\n",
        "#OR using this to find Number and data types of attributes (columns)\n",
        "df.info()"
      ],
      "metadata": {
        "id": "Uw1aOwSelTDa"
      },
      "execution_count": null,
      "outputs": []
    },
    {
      "cell_type": "code",
      "source": [
        "#Number of objects (rows)\n",
        "df.shape[0]"
      ],
      "metadata": {
        "id": "LyMIeYSqlTKw"
      },
      "execution_count": null,
      "outputs": []
    },
    {
      "cell_type": "code",
      "source": [
        "# Class Attribute Name\n",
        "Class_attribute='NObeyesdad'\n",
        "\n",
        "# Class Attribute Counting the Value\n",
        "value_count= df[Class_attribute].value_counts()\n",
        "#value_counts()shows counts how many times each unique value occurs\n",
        "# when count () just counts how many non-empty rows are\n",
        "print(value_count)"
      ],
      "metadata": {
        "id": "jGktsBvQlTTY"
      },
      "execution_count": null,
      "outputs": []
    },
    {
      "cell_type": "code",
      "source": [
        "# Print Sample of the raw data\n",
        "print(\"Sample of the raw dataset:\")\n",
        "print(df.head(10))"
      ],
      "metadata": {
        "id": "iuOplr8elTnh"
      },
      "execution_count": null,
      "outputs": []
    }
  ]
}